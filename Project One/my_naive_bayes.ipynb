{
 "cells": [
  {
   "cell_type": "code",
   "execution_count": null,
   "metadata": {},
   "outputs": [],
   "source": [
    "import re\n",
    "\n",
    "positive = []\n",
    "negative = []\n",
    "positive_dict = {}\n",
    "negative_dict = {}\n",
    "positive_set = set()\n",
    "negative_set = set()\n",
    "\n",
    "with open('play.txt', 'r') as file:\n",
    "    for lines in file:\n",
    "        try:\n",
    "            group_by_label(lines) \n",
    "        except:\n",
    "            pass\n",
    "        \n",
    "\n",
    "## \n",
    "def group_by_label(line):\n",
    "    label = line[-2]\n",
    "    line = line[:-2].strip('\\n\\t').split(\" \")\n",
    "    if(label == '0'):        \n",
    "        negative.extend(line)\n",
    "        return\n",
    "    positive.extend(line)\n",
    "    \n",
    "\n",
    "## clean data\n",
    "def clean_data():\n",
    "    pass\n",
    "    \n",
    "    \n",
    "## create dictionary\n",
    "def create_dict(dic, lis):\n",
    "    for word in lis:\n",
    "        if word in dic:\n",
    "            dic[word] = dic[word] + 1 \n",
    "            continue\n",
    "        dic[word] = 1\n",
    "        \n",
    "        \n",
    "            \n",
    "#//create_dict(positive_dict, positive)\n",
    "#//create_dict(negative_dict, negative)\n",
    "\n",
    "\n",
    "## create set of each +ve & -ve\n",
    "positive_set = set(positive)\n",
    "negative_set = set(negative)\n",
    "\n",
    "negative_set\n",
    "\n",
    "\n"
   ]
  },
  {
   "cell_type": "code",
   "execution_count": null,
   "metadata": {},
   "outputs": [],
   "source": []
  },
  {
   "cell_type": "code",
   "execution_count": null,
   "metadata": {},
   "outputs": [],
   "source": []
  }
 ],
 "metadata": {
  "kernelspec": {
   "display_name": "Python 3",
   "language": "python",
   "name": "python3"
  },
  "language_info": {
   "codemirror_mode": {
    "name": "ipython",
    "version": 3
   },
   "file_extension": ".py",
   "mimetype": "text/x-python",
   "name": "python",
   "nbconvert_exporter": "python",
   "pygments_lexer": "ipython3",
   "version": "3.6.6"
  }
 },
 "nbformat": 4,
 "nbformat_minor": 2
}
