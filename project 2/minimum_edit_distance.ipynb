{
 "cells": [
  {
   "cell_type": "code",
   "execution_count": 9,
   "metadata": {},
   "outputs": [
    {
     "data": {
      "text/plain": [
       "6"
      ]
     },
     "execution_count": 9,
     "metadata": {},
     "output_type": "execute_result"
    }
   ],
   "source": [
    "def min_edit_distance(source, target):\n",
    "    n = len(source)\n",
    "    m = len(target)\n",
    "    \n",
    "    first = [0] * (m + 1)\n",
    "    second = [0] * (m + 1)\n",
    "    \n",
    "    for i in range(len(first)):\n",
    "        first[i] = i\n",
    "    \n",
    "    for i in range(n):\n",
    "        second[0] = i + 1\n",
    "        \n",
    "        for j in range(m):\n",
    "            cos = 0 if source[i] == target[j] else 1\n",
    "            second[j +1] = min(second[j] + 1, first[j + 1] + 1, first[j] + cos)\n",
    "            \n",
    "        for j in range(len(first)):\n",
    "            first[j] = second[j]\n",
    "            \n",
    "    return second[m]   "
   ]
  },
  {
   "cell_type": "code",
   "execution_count": null,
   "metadata": {},
   "outputs": [],
   "source": []
  }
 ],
 "metadata": {
  "kernelspec": {
   "display_name": "Python 3",
   "language": "python",
   "name": "python3"
  },
  "language_info": {
   "codemirror_mode": {
    "name": "ipython",
    "version": 3
   },
   "file_extension": ".py",
   "mimetype": "text/x-python",
   "name": "python",
   "nbconvert_exporter": "python",
   "pygments_lexer": "ipython3",
   "version": "3.6.5"
  }
 },
 "nbformat": 4,
 "nbformat_minor": 2
}
